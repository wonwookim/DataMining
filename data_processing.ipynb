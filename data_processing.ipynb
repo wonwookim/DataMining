{
  "nbformat": 4,
  "nbformat_minor": 0,
  "metadata": {
    "colab": {
      "provenance": [],
      "authorship_tag": "ABX9TyP3FiSBl8NHMDf9jF+Uff2X",
      "include_colab_link": true
    },
    "kernelspec": {
      "name": "python3",
      "display_name": "Python 3"
    },
    "language_info": {
      "name": "python"
    }
  },
  "cells": [
    {
      "cell_type": "markdown",
      "metadata": {
        "id": "view-in-github",
        "colab_type": "text"
      },
      "source": [
        "<a href=\"https://colab.research.google.com/github/wonwookim/DataMining/blob/main/data_processing.ipynb\" target=\"_parent\"><img src=\"https://colab.research.google.com/assets/colab-badge.svg\" alt=\"Open In Colab\"/></a>"
      ]
    },
    {
      "cell_type": "markdown",
      "source": [
        "## 드라이브 연결하기"
      ],
      "metadata": {
        "id": "QHnzSgXNxviQ"
      }
    },
    {
      "cell_type": "code",
      "source": [
        "from google.colab import drive\n",
        "drive.mount('/content/drive')"
      ],
      "metadata": {
        "colab": {
          "base_uri": "https://localhost:8080/"
        },
        "id": "86Y5NdCzxiZ4",
        "outputId": "74ad462c-75b5-47cc-8ecd-3229e3adf859"
      },
      "execution_count": 1,
      "outputs": [
        {
          "output_type": "stream",
          "name": "stdout",
          "text": [
            "Mounted at /content/drive\n"
          ]
        }
      ]
    },
    {
      "cell_type": "markdown",
      "source": [
        "## 라이브러리 호출"
      ],
      "metadata": {
        "id": "YT_guvUQyJwc"
      }
    },
    {
      "cell_type": "code",
      "source": [
        "import pandas as pd"
      ],
      "metadata": {
        "id": "E33i4LCYx5lU"
      },
      "execution_count": 2,
      "outputs": []
    },
    {
      "cell_type": "markdown",
      "source": [
        "# Data Processing"
      ],
      "metadata": {
        "id": "3V4NL4hDzmMb"
      }
    },
    {
      "cell_type": "markdown",
      "source": [
        "## CSV 데이터 불러오기"
      ],
      "metadata": {
        "id": "0szW0Qrtyge4"
      }
    },
    {
      "cell_type": "code",
      "source": [
        "csv_data = pd.read_csv('/content/drive/MyDrive/data_mining/datacleaning.csv', encoding = 'cp949', index_col = None) #보통 한글이 들어가 있는 파일을 보면 cp949 형식으로 저장되어있어서 반영해줘야함\n",
        "\n",
        "csv_data.head()"
      ],
      "metadata": {
        "colab": {
          "base_uri": "https://localhost:8080/",
          "height": 206
        },
        "id": "PMluqKxnyjpM",
        "outputId": "c5b8a8b2-5cc0-41b1-e159-1d7c5083582d"
      },
      "execution_count": 9,
      "outputs": [
        {
          "output_type": "execute_result",
          "data": {
            "text/plain": [
              "   Customer          SSN Birthdate  Age Region  CredCardUser  Income  \\\n",
              "0         1  539-84-9599  10.26.44   72   East           0.0   62900   \n",
              "1         2  444-05-4079  01.01.32   67   West           NaN   23300   \n",
              "2         3  418-18-5649  08.17.73   25   East           1.0   48700   \n",
              "3         4  065-63-3311  08.02.47   51   West           1.0  137600   \n",
              "4         5  059-58-9566  10.03.48   50   East           0.0  101400   \n",
              "\n",
              "   Purchases  AmountSpent  \n",
              "0          4         2080  \n",
              "1          0            0  \n",
              "2          8         3990  \n",
              "3          2          920  \n",
              "4          2         1000  "
            ],
            "text/html": [
              "\n",
              "  <div id=\"df-776c4d77-4c0a-41bd-a151-c43921d81b2a\">\n",
              "    <div class=\"colab-df-container\">\n",
              "      <div>\n",
              "<style scoped>\n",
              "    .dataframe tbody tr th:only-of-type {\n",
              "        vertical-align: middle;\n",
              "    }\n",
              "\n",
              "    .dataframe tbody tr th {\n",
              "        vertical-align: top;\n",
              "    }\n",
              "\n",
              "    .dataframe thead th {\n",
              "        text-align: right;\n",
              "    }\n",
              "</style>\n",
              "<table border=\"1\" class=\"dataframe\">\n",
              "  <thead>\n",
              "    <tr style=\"text-align: right;\">\n",
              "      <th></th>\n",
              "      <th>Customer</th>\n",
              "      <th>SSN</th>\n",
              "      <th>Birthdate</th>\n",
              "      <th>Age</th>\n",
              "      <th>Region</th>\n",
              "      <th>CredCardUser</th>\n",
              "      <th>Income</th>\n",
              "      <th>Purchases</th>\n",
              "      <th>AmountSpent</th>\n",
              "    </tr>\n",
              "  </thead>\n",
              "  <tbody>\n",
              "    <tr>\n",
              "      <th>0</th>\n",
              "      <td>1</td>\n",
              "      <td>539-84-9599</td>\n",
              "      <td>10.26.44</td>\n",
              "      <td>72</td>\n",
              "      <td>East</td>\n",
              "      <td>0.0</td>\n",
              "      <td>62900</td>\n",
              "      <td>4</td>\n",
              "      <td>2080</td>\n",
              "    </tr>\n",
              "    <tr>\n",
              "      <th>1</th>\n",
              "      <td>2</td>\n",
              "      <td>444-05-4079</td>\n",
              "      <td>01.01.32</td>\n",
              "      <td>67</td>\n",
              "      <td>West</td>\n",
              "      <td>NaN</td>\n",
              "      <td>23300</td>\n",
              "      <td>0</td>\n",
              "      <td>0</td>\n",
              "    </tr>\n",
              "    <tr>\n",
              "      <th>2</th>\n",
              "      <td>3</td>\n",
              "      <td>418-18-5649</td>\n",
              "      <td>08.17.73</td>\n",
              "      <td>25</td>\n",
              "      <td>East</td>\n",
              "      <td>1.0</td>\n",
              "      <td>48700</td>\n",
              "      <td>8</td>\n",
              "      <td>3990</td>\n",
              "    </tr>\n",
              "    <tr>\n",
              "      <th>3</th>\n",
              "      <td>4</td>\n",
              "      <td>065-63-3311</td>\n",
              "      <td>08.02.47</td>\n",
              "      <td>51</td>\n",
              "      <td>West</td>\n",
              "      <td>1.0</td>\n",
              "      <td>137600</td>\n",
              "      <td>2</td>\n",
              "      <td>920</td>\n",
              "    </tr>\n",
              "    <tr>\n",
              "      <th>4</th>\n",
              "      <td>5</td>\n",
              "      <td>059-58-9566</td>\n",
              "      <td>10.03.48</td>\n",
              "      <td>50</td>\n",
              "      <td>East</td>\n",
              "      <td>0.0</td>\n",
              "      <td>101400</td>\n",
              "      <td>2</td>\n",
              "      <td>1000</td>\n",
              "    </tr>\n",
              "  </tbody>\n",
              "</table>\n",
              "</div>\n",
              "      <button class=\"colab-df-convert\" onclick=\"convertToInteractive('df-776c4d77-4c0a-41bd-a151-c43921d81b2a')\"\n",
              "              title=\"Convert this dataframe to an interactive table.\"\n",
              "              style=\"display:none;\">\n",
              "        \n",
              "  <svg xmlns=\"http://www.w3.org/2000/svg\" height=\"24px\"viewBox=\"0 0 24 24\"\n",
              "       width=\"24px\">\n",
              "    <path d=\"M0 0h24v24H0V0z\" fill=\"none\"/>\n",
              "    <path d=\"M18.56 5.44l.94 2.06.94-2.06 2.06-.94-2.06-.94-.94-2.06-.94 2.06-2.06.94zm-11 1L8.5 8.5l.94-2.06 2.06-.94-2.06-.94L8.5 2.5l-.94 2.06-2.06.94zm10 10l.94 2.06.94-2.06 2.06-.94-2.06-.94-.94-2.06-.94 2.06-2.06.94z\"/><path d=\"M17.41 7.96l-1.37-1.37c-.4-.4-.92-.59-1.43-.59-.52 0-1.04.2-1.43.59L10.3 9.45l-7.72 7.72c-.78.78-.78 2.05 0 2.83L4 21.41c.39.39.9.59 1.41.59.51 0 1.02-.2 1.41-.59l7.78-7.78 2.81-2.81c.8-.78.8-2.07 0-2.86zM5.41 20L4 18.59l7.72-7.72 1.47 1.35L5.41 20z\"/>\n",
              "  </svg>\n",
              "      </button>\n",
              "      \n",
              "  <style>\n",
              "    .colab-df-container {\n",
              "      display:flex;\n",
              "      flex-wrap:wrap;\n",
              "      gap: 12px;\n",
              "    }\n",
              "\n",
              "    .colab-df-convert {\n",
              "      background-color: #E8F0FE;\n",
              "      border: none;\n",
              "      border-radius: 50%;\n",
              "      cursor: pointer;\n",
              "      display: none;\n",
              "      fill: #1967D2;\n",
              "      height: 32px;\n",
              "      padding: 0 0 0 0;\n",
              "      width: 32px;\n",
              "    }\n",
              "\n",
              "    .colab-df-convert:hover {\n",
              "      background-color: #E2EBFA;\n",
              "      box-shadow: 0px 1px 2px rgba(60, 64, 67, 0.3), 0px 1px 3px 1px rgba(60, 64, 67, 0.15);\n",
              "      fill: #174EA6;\n",
              "    }\n",
              "\n",
              "    [theme=dark] .colab-df-convert {\n",
              "      background-color: #3B4455;\n",
              "      fill: #D2E3FC;\n",
              "    }\n",
              "\n",
              "    [theme=dark] .colab-df-convert:hover {\n",
              "      background-color: #434B5C;\n",
              "      box-shadow: 0px 1px 3px 1px rgba(0, 0, 0, 0.15);\n",
              "      filter: drop-shadow(0px 1px 2px rgba(0, 0, 0, 0.3));\n",
              "      fill: #FFFFFF;\n",
              "    }\n",
              "  </style>\n",
              "\n",
              "      <script>\n",
              "        const buttonEl =\n",
              "          document.querySelector('#df-776c4d77-4c0a-41bd-a151-c43921d81b2a button.colab-df-convert');\n",
              "        buttonEl.style.display =\n",
              "          google.colab.kernel.accessAllowed ? 'block' : 'none';\n",
              "\n",
              "        async function convertToInteractive(key) {\n",
              "          const element = document.querySelector('#df-776c4d77-4c0a-41bd-a151-c43921d81b2a');\n",
              "          const dataTable =\n",
              "            await google.colab.kernel.invokeFunction('convertToInteractive',\n",
              "                                                     [key], {});\n",
              "          if (!dataTable) return;\n",
              "\n",
              "          const docLinkHtml = 'Like what you see? Visit the ' +\n",
              "            '<a target=\"_blank\" href=https://colab.research.google.com/notebooks/data_table.ipynb>data table notebook</a>'\n",
              "            + ' to learn more about interactive tables.';\n",
              "          element.innerHTML = '';\n",
              "          dataTable['output_type'] = 'display_data';\n",
              "          await google.colab.output.renderOutput(dataTable, element);\n",
              "          const docLink = document.createElement('div');\n",
              "          docLink.innerHTML = docLinkHtml;\n",
              "          element.appendChild(docLink);\n",
              "        }\n",
              "      </script>\n",
              "    </div>\n",
              "  </div>\n",
              "  "
            ]
          },
          "metadata": {},
          "execution_count": 9
        }
      ]
    },
    {
      "cell_type": "markdown",
      "source": [
        "## Data Summary\n",
        "* 이 것은 데이터에 무슨 값이 있는지 요약하기 위한 섹션"
      ],
      "metadata": {
        "id": "9QEiwtJizv0o"
      }
    },
    {
      "cell_type": "code",
      "source": [
        "csv_data.shape"
      ],
      "metadata": {
        "colab": {
          "base_uri": "https://localhost:8080/"
        },
        "id": "ml1nTrJSz3VU",
        "outputId": "f5bf39af-4827-41fd-fc1d-4044edcefd55"
      },
      "execution_count": 11,
      "outputs": [
        {
          "output_type": "execute_result",
          "data": {
            "text/plain": [
              "(1500, 9)"
            ]
          },
          "metadata": {},
          "execution_count": 11
        }
      ]
    },
    {
      "cell_type": "code",
      "source": [
        "csv_data.describe"
      ],
      "metadata": {
        "colab": {
          "base_uri": "https://localhost:8080/"
        },
        "id": "ttPQmz7Cz8iS",
        "outputId": "0f494e82-d2f3-48f4-bf19-8b8a3a2dd2f2"
      },
      "execution_count": 12,
      "outputs": [
        {
          "output_type": "execute_result",
          "data": {
            "text/plain": [
              "<bound method NDFrame.describe of       Customer          SSN Birthdate  Age  Region  CredCardUser  Income  \\\n",
              "0            1  539-84-9599  10.26.44   72    East           0.0   62900   \n",
              "1            2  444-05-4079  01.01.32   67    West           NaN   23300   \n",
              "2            3  418-18-5649  08.17.73   25    East           1.0   48700   \n",
              "3            4  065-63-3311  08.02.47   51    West           1.0  137600   \n",
              "4            5  059-58-9566  10.03.48   50    East           0.0  101400   \n",
              "...        ...          ...       ...  ...     ...           ...     ...   \n",
              "1495      1496  347-70-0762  09.28.65   33    West           0.0   71800   \n",
              "1496      1497  638-19-2849  07.31.30   68   South           0.0  121100   \n",
              "1497      1498  670-57-4549  07.21.54   44   North           1.0   64000   \n",
              "1498      1499  166-84-2698  10.30.66   32   South           0.0   91000   \n",
              "1499      1500  366-03-5021  09.23.34   64   South           0.0  121400   \n",
              "\n",
              "      Purchases  AmountSpent  \n",
              "0             4         2080  \n",
              "1             0            0  \n",
              "2             8         3990  \n",
              "3             2          920  \n",
              "4             2         1000  \n",
              "...         ...          ...  \n",
              "1495          2          970  \n",
              "1496          5         2540  \n",
              "1497          4         2160  \n",
              "1498          6         2910  \n",
              "1499          1          530  \n",
              "\n",
              "[1500 rows x 9 columns]>"
            ]
          },
          "metadata": {},
          "execution_count": 12
        }
      ]
    },
    {
      "cell_type": "markdown",
      "source": [
        "## Data cleaning"
      ],
      "metadata": {
        "id": "jDT3_Rxax0c1"
      }
    },
    {
      "cell_type": "markdown",
      "source": [],
      "metadata": {
        "id": "5vD9m51zyUAs"
      }
    }
  ]
}